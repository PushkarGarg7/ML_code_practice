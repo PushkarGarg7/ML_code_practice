{
 "cells": [
  {
   "cell_type": "code",
   "execution_count": 1,
   "metadata": {},
   "outputs": [],
   "source": [
    "import numpy as np\n",
    "import pandas as pd\n"
   ]
  },
  {
   "cell_type": "code",
   "execution_count": 2,
   "metadata": {},
   "outputs": [],
   "source": [
    "import time\n",
    "\n",
    "x1 = [9, 2, 5, 0, 0, 7, 5, 0, 0, 0, 9, 2, 5, 0, 0]\n",
    "x2 = [9, 2, 2, 9, 0, 9, 2, 5, 0, 0, 9, 2, 5, 0, 0]\n",
    "\n",
    "# ### CLASSIC DOT PRODUCT OF VECTORS IMPLEMENTATION ###\n",
    "# # tic = time.process_time()\n",
    "# # dot = 0\n",
    "# # for i in range(len(x1)):\n",
    "# #     dot+= x1[i]*x2[i]\n",
    "# # toc = time.process_time()\n",
    "# # print (\"dot = \" + str(dot) + \"\\n ----- Computation time = \" + str(1000*(toc - tic)) + \"ms\")\n",
    "\n",
    "\n",
    "\n",
    "# ### CLASSIC OUTER PRODUCT IMPLEMENTATION ###\n",
    "# tic = time.process_time()\n",
    "# outer = np.zeros((len(x1),len(x2))) # we create a len(x1)*len(x2) matrix with only zeros\n",
    "# for i in range(len(x1)):\n",
    "#     for j in range(len(x2)):\n",
    "#         outer[i,j] = x1[i]*x2[j]\n",
    "# toc = time.process_time()\n",
    "# print (\"outer = \" + str(outer) + \"\\n ----- Computation time = \" + str(1000*(toc - tic)) + \"ms\")\n",
    "\n",
    "# ### CLASSIC ELEMENTWISE IMPLEMENTATION ###\n",
    "# tic = time.process_time()\n",
    "# mul = np.zeros(len(x1))\n",
    "# for i in range(len(x1)):\n",
    "#     mul[i] = x1[i]*x2[i]\n",
    "# toc = time.process_time()\n",
    "# print (\"elementwise multiplication = \" + str(mul) + \"\\n ----- Computation time = \" + str(1000*(toc - tic)) + \"ms\")\n",
    "\n",
    "# ### CLASSIC GENERAL DOT PRODUCT IMPLEMENTATION ###\n",
    "# W = np.random.rand(3,len(x1)) # Random 3*len(x1) numpy array\n",
    "# tic = time.process_time()\n",
    "# gdot = np.zeros(W.shape[0])\n",
    "# for i in range(W.shape[0]):\n",
    "#     for j in range(len(x1)):\n",
    "#         gdot[i] += W[i,j]*x1[j]\n",
    "# toc = time.process_time()\n",
    "# print (\"gdot = \" + str(gdot) + \"\\n ----- Computation time = \" + str(1000*(toc - tic)) + \"ms\")"
   ]
  },
  {
   "cell_type": "code",
   "execution_count": 7,
   "metadata": {},
   "outputs": [
    {
     "name": "stdout",
     "output_type": "stream",
     "text": [
      "dot = 278\n",
      " ----- Computation time = 0.06292800000018417ms\n"
     ]
    }
   ],
   "source": [
    "tic = time.process_time()\n",
    "dot = 0\n",
    "for i in range(len(x1)):\n",
    "    dot+= x1[i]*x2[i]\n",
    "toc = time.process_time()\n",
    "print (\"dot = \" + str(dot) + \"\\n ----- Computation time = \" + str(1000*(toc - tic)) + \"ms\")\n"
   ]
  },
  {
   "cell_type": "code",
   "execution_count": null,
   "metadata": {},
   "outputs": [],
   "source": []
  }
 ],
 "metadata": {
  "kernelspec": {
   "display_name": "myenv",
   "language": "python",
   "name": "python3"
  },
  "language_info": {
   "codemirror_mode": {
    "name": "ipython",
    "version": 3
   },
   "file_extension": ".py",
   "mimetype": "text/x-python",
   "name": "python",
   "nbconvert_exporter": "python",
   "pygments_lexer": "ipython3",
   "version": "3.11.6"
  }
 },
 "nbformat": 4,
 "nbformat_minor": 2
}
